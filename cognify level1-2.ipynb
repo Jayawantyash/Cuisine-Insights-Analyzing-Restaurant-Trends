{
 "cells": [
  {
   "cell_type": "markdown",
   "id": "29e6c438",
   "metadata": {},
   "source": [
    "##### ***Overview***\n",
    "This analysis was performed on a restaurant dataset to derive key insights based on city-wise performance. The objectives were:\n",
    "\n",
    "Identify the city with the highest number of restaurants.\n",
    "\n",
    "Calculate the average rating for restaurants in each city.\n",
    "\n",
    "Determine the city with the highest average restaurant rating.\n",
    "\n",
    "The dataset included various features like restaurant name, location, rating, and other attributes such as table booking and delivery options.\n",
    "\n",
    "Key Findings\n",
    "City with the most restaurants:\n",
    "New Delhi stands out with 5,473 restaurants, indicating a dense and competitive food market.\n",
    "\n",
    "Top Cities by Average Rating:\n",
    "\n",
    "City\tAverage Rating\n",
    "Inner City\t4.90\n",
    "Quezon City\t4.80\n",
    "Makati City\t4.65\n",
    "Pasig City\t4.63\n",
    "Mandaluyong City\t4.63\n",
    "\n",
    "City with the Highest Average Rating:\n",
    "Inner City achieves the highest average restaurant rating of 4.9, showcasing exceptional customer satisfaction or niche fine-dining quality."
   ]
  },
  {
   "cell_type": "code",
   "execution_count": 7,
   "id": "c8f07db0-bf90-47d0-9924-2de89aa04653",
   "metadata": {},
   "outputs": [
    {
     "name": "stdout",
     "output_type": "stream",
     "text": [
      "City with the highest number of restaurants: New Delhi (5473)\n",
      "\n",
      "Top 5 cities by average restaurant rating:\n",
      "City\n",
      "Inner City          4.900000\n",
      "Quezon City         4.800000\n",
      "Makati City         4.650000\n",
      "Pasig City          4.633333\n",
      "Mandaluyong City    4.625000\n",
      "Name: Aggregate rating, dtype: float64\n",
      "\n",
      "City with the highest average rating: Inner City (4.9)\n"
     ]
    }
   ],
   "source": [
    "import pandas as pd\n",
    "\n",
    "# Load the dataset\n",
    "file_path = (r\"C:\\Users\\admin\\Downloads\\Dataset  (1).csv\")\n",
    "df = pd.read_csv(file_path)\n",
    "\n",
    "# 1. Identify the city with the highest number of restaurants\n",
    "city_counts = df['City'].value_counts()\n",
    "city_with_most_restaurants = city_counts.idxmax()\n",
    "most_restaurants_count = city_counts.max()\n",
    "print(f\"City with the highest number of restaurants: {city_with_most_restaurants} ({most_restaurants_count})\")\n",
    "\n",
    "# 2. Calculate the average rating for restaurants in each city\n",
    "average_ratings_by_city = df.groupby('City')['Aggregate rating'].mean().sort_values(ascending=False)\n",
    "print(\"\\nTop 5 cities by average restaurant rating:\")\n",
    "print(average_ratings_by_city.head())\n",
    "\n",
    "# 3. Determine the city with the highest average rating\n",
    "city_with_highest_avg_rating = average_ratings_by_city.idxmax()\n",
    "highest_avg_rating = average_ratings_by_city.max()\n",
    "print(f\"\\nCity with the highest average rating: {city_with_highest_avg_rating} ({highest_avg_rating})\")\n"
   ]
  },
  {
   "cell_type": "markdown",
   "id": "20fb93f4-7d8d-4d26-be1b-995522f215a5",
   "metadata": {},
   "source": [
    "##### ***Conclusion***\n",
    "New Delhi is a major hub for restaurant businesses in terms of quantity, reflecting both opportunity and intense competition.\n",
    "\n",
    "Inner City, though likely hosting fewer establishments, leads in quality, indicating a strong focus on customer experience or upscale offerings.\n",
    "\n",
    "There's an interesting regional diversity among the top-rated cities, with multiple high-performing locations in the Philippines (e.g., Makati City, Quezon City).\n",
    "\n"
   ]
  },
  {
   "cell_type": "markdown",
   "id": "85407618",
   "metadata": {},
   "source": []
  }
 ],
 "metadata": {
  "kernelspec": {
   "display_name": "Python 3 (ipykernel)",
   "language": "python",
   "name": "python3"
  },
  "language_info": {
   "codemirror_mode": {
    "name": "ipython",
    "version": 3
   },
   "file_extension": ".py",
   "mimetype": "text/x-python",
   "name": "python",
   "nbconvert_exporter": "python",
   "pygments_lexer": "ipython3",
   "version": "3.12.4"
  }
 },
 "nbformat": 4,
 "nbformat_minor": 5
}
