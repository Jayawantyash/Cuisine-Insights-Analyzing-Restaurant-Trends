{
 "cells": [
  {
   "cell_type": "markdown",
   "id": "5c51e58b",
   "metadata": {},
   "source": [
    "##### ***Project Overview***\n",
    "The project titled \"Cuisine Insights: Analyzing Restaurant Trends\" aims to extract and evaluate key patterns in a restaurant dataset, focusing on cuisine types across various cities. The dataset contains detailed information about restaurants, including their names, locations, average cost, cuisines offered, ratings, and availability of services like online delivery and table booking.\n",
    "\n",
    "The primary objective of this project is to identify the most commonly served cuisines and evaluate their popularity based on their frequency and share among all restaurants. This analysis helps food industry stakeholders, business analysts, and restaurant owners understand customer preferences and market trends to make informed decisions about menu offerings and business strategies.\n",
    "\n",
    "Key tasks in the project included:\n",
    "\n",
    "Cleaning the dataset, particularly handling missing values in the \"Cuisines\" column.\n",
    "\n",
    "Parsing and analyzing cuisine types using frequency counts.\n",
    "\n",
    "Calculating the top 3 cuisines and their percentage representation in the dataset.\n",
    "\n"
   ]
  },
  {
   "cell_type": "code",
   "execution_count": 5,
   "id": "77edf1cc-4694-4dff-80dc-357229912e79",
   "metadata": {},
   "outputs": [
    {
     "name": "stdout",
     "output_type": "stream",
     "text": [
      "North Indian: 3960 restaurants (41.46%)\n",
      "Chinese: 2735 restaurants (28.64%)\n",
      "Fast Food: 1986 restaurants (20.79%)\n"
     ]
    }
   ],
   "source": [
    "import pandas as pd\n",
    "from collections import Counter\n",
    "\n",
    "# Load the dataset\n",
    "df = pd.read_csv(r\"C:\\Users\\admin\\Downloads\\Dataset  (1).csv\")\n",
    "\n",
    "# Drop rows where Cuisines is missing\n",
    "df_cuisines = df['Cuisines'].dropna()\n",
    "\n",
    "# Split cuisines and count\n",
    "cuisine_counter = Counter()\n",
    "for cuisines in df_cuisines:\n",
    "    for cuisine in cuisines.split(','):\n",
    "        cuisine_counter[cuisine.strip()] += 1\n",
    "\n",
    "# Get top 3 cuisines\n",
    "top_3_cuisines = cuisine_counter.most_common(3)\n",
    "\n",
    "# Calculate percentage for each top cuisine\n",
    "total_restaurants = len(df)\n",
    "top_3_percentages = [(cuisine, count, round((count / total_restaurants) * 100, 2))\n",
    "                     for cuisine, count in top_3_cuisines]\n",
    "\n",
    "# Print results\n",
    "for cuisine, count, percentage in top_3_percentages:\n",
    "    print(f\"{cuisine}: {count} restaurants ({percentage}%)\")"
   ]
  },
  {
   "cell_type": "markdown",
   "id": "d5681558",
   "metadata": {},
   "source": [
    "##### ***Conclusion***\n",
    "The analysis revealed the top three most popular cuisines based on their frequency across restaurants in the dataset. These insights highlight consumer preferences and serve as a strategic guide for restaurateurs looking to adapt to current food trends.\n",
    "\n",
    "Understanding cuisine popularity can significantly aid in:\n",
    "\n",
    "Menu planning and optimization.\n",
    "\n",
    "Targeted marketing and promotions.\n",
    "\n",
    "Expanding or franchising restaurants in high-demand cuisine categories.\n",
    "\n",
    "Overall, this project demonstrates the value of data-driven decision-making in the restaurant industry and lays the groundwork for more advanced analyses, such as regional preference mapping or customer sentiment analysis using reviews."
   ]
  }
 ],
 "metadata": {
  "kernelspec": {
   "display_name": "Python 3 (ipykernel)",
   "language": "python",
   "name": "python3"
  },
  "language_info": {
   "codemirror_mode": {
    "name": "ipython",
    "version": 3
   },
   "file_extension": ".py",
   "mimetype": "text/x-python",
   "name": "python",
   "nbconvert_exporter": "python",
   "pygments_lexer": "ipython3",
   "version": "3.12.4"
  }
 },
 "nbformat": 4,
 "nbformat_minor": 5
}
