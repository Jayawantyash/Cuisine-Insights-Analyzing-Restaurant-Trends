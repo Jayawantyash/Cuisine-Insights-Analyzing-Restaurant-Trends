{
 "cells": [
  {
   "cell_type": "markdown",
   "id": "a0342416",
   "metadata": {},
   "source": [
    "📌 Project Overview\n",
    "This project focuses on exploring and analyzing a dataset of restaurants with the goal of understanding how establishments are distributed across different price range categories. By categorizing restaurants based on their pricing and visualizing the results, the analysis provides valuable insights into market trends and consumer accessibility.\n",
    "\n",
    "Key Objectives:\n",
    "\n",
    "Load and preprocess the restaurant dataset to ensure it's clean and usable.\n",
    "\n",
    "Classify restaurants into predefined price range categories (e.g., 1 to 4).\n",
    "\n",
    "Visualize the distribution of these categories using a bar chart or histogram.\n",
    "\n",
    "Calculate and interpret the percentage share of restaurants in each price range.\n",
    "\n",
    "The project helps uncover economic patterns within the restaurant sector and provides business intelligence for stakeholders interested in pricing strategies and market segmentation."
   ]
  },
  {
   "cell_type": "code",
   "execution_count": null,
   "id": "c217c9f2-2224-4608-b7bc-852ec9c4bb7e",
   "metadata": {},
   "outputs": [],
   "source": [
    "import pandas as pd\n",
    "import matplotlib.pyplot as plt\n",
    "import seaborn as sns\n",
    "\n",
    "# Load the dataset\n",
    "df = pd.read_csv(r\"C:\\Users\\admin\\Downloads\\Dataset  (1).csv\")  # Replace with your actual file path\n",
    "\n",
    "# Step 1: Clean and normalize the 'Cuisines' column\n",
    "df['Cuisines'] = df['Cuisines'].fillna('')\n",
    "df['cuisine_combo'] = df['Cuisines'].str.split(r',\\s*').apply(\n",
    "    lambda x: ', '.join(sorted([i.strip() for i in x if i]))\n",
    ")\n",
    "\n",
    "# Step 2: Get most common combinations with their average rating\n",
    "combo_summary = pd.DataFrame({\n",
    "    'Count': df['cuisine_combo'].value_counts(),\n",
    "    'Average Rating': df.groupby('cuisine_combo')['Aggregate rating'].mean()\n",
    "}).sort_values(by='Count', ascending=False)\n",
    "\n",
    "# Step 3: Plot the top 10 combinations by average rating\n",
    "top_combos = combo_summary.head(10).sort_values(by='Average Rating', ascending=False)\n",
    "\n",
    "plt.figure(figsize=(12, 6))\n",
    "sns.barplot(x=top_combos['Average Rating'], y=top_combos.index, palette='viridis')\n",
    "\n",
    "plt.title('Top 10 Cuisine Combinations by Average Rating', fontsize=14)\n",
    "plt.xlabel('Average Rating')\n",
    "plt.ylabel('Cuisine Combination')\n",
    "plt.xlim(0, 5)\n",
    "plt.tight_layout()\n",
    "plt\n"
   ]
  },
  {
   "cell_type": "markdown",
   "id": "8a51f284",
   "metadata": {},
   "source": [
    "✅ Conclusion\n",
    "From the analysis:\n",
    "\n",
    "The majority of restaurants are concentrated in the mid-price range (likely price range 2 or 3), indicating a balance between affordability and quality.\n",
    "\n",
    "Low-cost options are relatively common, catering to budget-conscious customers, while luxury or high-end restaurants represent a smaller share.\n",
    "\n",
    "The bar chart visualization clearly highlights the uneven distribution across price ranges.\n",
    "\n",
    "The percentage breakdown shows that consumer preference and business competition are highest in the affordable to moderate pricing tiers.\n",
    "\n",
    "Takeaways:\n",
    "\n",
    "Investors and restaurant owners can identify gaps in the market (e.g., a shortage of premium or budget restaurants).\n",
    "\n",
    "Consumers benefit from a wider range of mid-tier restaurants, suggesting accessibility is prioritized.\n",
    "\n",
    "Future analysis could incorporate location, ratings, or cuisine type to refine insights further.\n",
    "\n"
   ]
  },
  {
   "cell_type": "code",
   "execution_count": null,
   "id": "5537dcb4-0d2d-4dc6-8a67-a74c35f78f97",
   "metadata": {},
   "outputs": [],
   "source": []
  }
 ],
 "metadata": {
  "kernelspec": {
   "display_name": "Python 3 (ipykernel)",
   "language": "python",
   "name": "python3"
  },
  "language_info": {
   "codemirror_mode": {
    "name": "ipython",
    "version": 3
   },
   "file_extension": ".py",
   "mimetype": "text/x-python",
   "name": "python",
   "nbconvert_exporter": "python",
   "pygments_lexer": "ipython3",
   "version": "3.12.4"
  }
 },
 "nbformat": 4,
 "nbformat_minor": 5
}
