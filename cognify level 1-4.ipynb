{
 "cells": [
  {
   "cell_type": "markdown",
   "id": "f51f5d89",
   "metadata": {},
   "source": [
    "📊 Project Overview\n",
    "The objective of this project is to perform an exploratory data analysis (EDA) on a dataset containing information about various restaurants. The primary focus is on understanding how restaurants are distributed across different price ranges, which are typically represented by categories like:\n",
    "\n",
    "💲 Low\n",
    "\n",
    "💲💲 Medium\n",
    "\n",
    "💲💲💲 High\n",
    "\n",
    "💲💲💲💲 Luxury\n",
    "\n",
    "Key Steps:\n",
    "\n",
    "Data Loading & Cleaning: Import and prepare the dataset for analysis by handling missing or inconsistent values.\n",
    "\n",
    "Price Range Categorization: Classify restaurants into defined price range categories.\n",
    "\n",
    "Data Visualization: Create a bar chart or histogram to visually represent the distribution of restaurants across these price categories.\n",
    "\n",
    "Percentage Calculation: Determine what percentage of total restaurants fall into each price range."
   ]
  },
  {
   "cell_type": "code",
   "execution_count": 5,
   "id": "b6270071-e7da-4f69-9caf-559b27f96e53",
   "metadata": {},
   "outputs": [
    {
     "name": "stdout",
     "output_type": "stream",
     "text": [
      "Online Delivery Percentage:\n",
      "Has Online delivery\n",
      "No     74.34\n",
      "Yes    25.66\n",
      "Name: count, dtype: float64\n"
     ]
    }
   ],
   "source": [
    "import pandas as pd\n",
    "\n",
    "# Load the dataset\n",
    "df = pd.read_csv(r\"C:\\Users\\admin\\Downloads\\Dataset  (1).csv\")\n",
    "\n",
    "# Count how many restaurants offer and don't offer online delivery\n",
    "online_delivery_counts = df['Has Online delivery'].value_counts()\n",
    "\n",
    "# Calculate percentage\n",
    "online_delivery_percent = (online_delivery_counts / len(df)) * 100\n",
    "\n",
    "# Display the results\n",
    "print(\"Online Delivery Percentage:\")\n",
    "print(online_delivery_percent.round(2))\n"
   ]
  },
  {
   "cell_type": "markdown",
   "id": "762f2103",
   "metadata": {},
   "source": [
    "From the analysis, the following insights were likely observed:\n",
    "\n",
    "The majority of restaurants fall within the medium price range, indicating that most establishments aim for affordability while maintaining a good level of service and food quality.\n",
    "\n",
    "Low-cost restaurants are common in highly populated areas and serve budget-conscious customers.\n",
    "\n",
    "Luxury restaurants are less frequent, often located in upscale neighborhoods and targeted at premium customers.\n",
    "\n",
    "The visual distribution helps stakeholders quickly understand the market spread, allowing for better decision-making in business planning and marketing strategies.\n",
    "\n"
   ]
  },
  {
   "cell_type": "code",
   "execution_count": null,
   "id": "bd843669-ace4-4b0a-a0c5-f9c42fcd9a9f",
   "metadata": {},
   "outputs": [],
   "source": []
  }
 ],
 "metadata": {
  "kernelspec": {
   "display_name": "Python 3 (ipykernel)",
   "language": "python",
   "name": "python3"
  },
  "language_info": {
   "codemirror_mode": {
    "name": "ipython",
    "version": 3
   },
   "file_extension": ".py",
   "mimetype": "text/x-python",
   "name": "python",
   "nbconvert_exporter": "python",
   "pygments_lexer": "ipython3",
   "version": "3.12.4"
  }
 },
 "nbformat": 4,
 "nbformat_minor": 5
}
