{
 "cells": [
  {
   "cell_type": "markdown",
   "id": "7e43db3b",
   "metadata": {},
   "source": [
    "Project Overview\n",
    "This project aims to explore the relationship between customer engagement (measured through votes) and customer satisfaction (measured through aggregate ratings) in a restaurant dataset. The main objectives include:\n",
    "\n",
    "Identifying restaurants with the highest and lowest number of votes.\n",
    "\n",
    "Exploring the correlation between votes and aggregate ratings to understand whether popular restaurants tend to be better rated.\n",
    "\n",
    "The dataset was preprocessed to ensure vote values were numeric, and key statistical methods were used to derive meaningful insights from the data.\n",
    "\n"
   ]
  },
  {
   "cell_type": "code",
   "execution_count": 1,
   "id": "13d13ebb-c438-4864-9aa6-61b50fbe6e30",
   "metadata": {},
   "outputs": [
    {
     "data": {
      "text/plain": [
       "(Restaurant ID                                                       51705\n",
       " Restaurant Name                                                      Toit\n",
       " Country Code                                                            1\n",
       " City                                                            Bangalore\n",
       " Address                 298, Namma Metro Pillar 62, 100 Feet Road, Ind...\n",
       " Locality                                                      Indiranagar\n",
       " Locality Verbose                                   Indiranagar, Bangalore\n",
       " Longitude                                                       77.640709\n",
       " Latitude                                                        12.979166\n",
       " Cuisines                                         Italian, American, Pizza\n",
       " Average Cost for two                                                 2000\n",
       " Currency                                               Indian Rupees(Rs.)\n",
       " Has Table booking                                                      No\n",
       " Has Online delivery                                                    No\n",
       " Is delivering now                                                      No\n",
       " Switch to order menu                                                   No\n",
       " Price range                                                             4\n",
       " Aggregate rating                                                      4.8\n",
       " Rating color                                                   Dark Green\n",
       " Rating text                                                     Excellent\n",
       " Votes                                                               10934\n",
       " Name: 728, dtype: object,\n",
       " Restaurant ID                                                     6710645\n",
       " Restaurant Name                                          Cantinho da Gula\n",
       " Country Code                                                           30\n",
       " City                                                           S��o Paulo\n",
       " Address                 Rua Pedroso Alvarenga, 522, Itaim Bibi, S��o P...\n",
       " Locality                                                       Itaim Bibi\n",
       " Locality Verbose                                   Itaim Bibi, S��o Paulo\n",
       " Longitude                                                      -46.675667\n",
       " Latitude                                                          -23.581\n",
       " Cuisines                                                        Brazilian\n",
       " Average Cost for two                                                   55\n",
       " Currency                                               Brazilian Real(R$)\n",
       " Has Table booking                                                      No\n",
       " Has Online delivery                                                    No\n",
       " Is delivering now                                                      No\n",
       " Switch to order menu                                                   No\n",
       " Price range                                                             2\n",
       " Aggregate rating                                                      0.0\n",
       " Rating color                                                        White\n",
       " Rating text                                                     Not rated\n",
       " Votes                                                                   0\n",
       " Name: 69, dtype: object,\n",
       " 0.31369058419540985)"
      ]
     },
     "execution_count": 1,
     "metadata": {},
     "output_type": "execute_result"
    }
   ],
   "source": [
    "import pandas as pd\n",
    "\n",
    "# Reload the dataset used earlier (assuming it's the same as in previous context)\n",
    "file_path = (r\"C:\\Users\\admin\\Downloads\\Dataset  (1).csv\")\n",
    "\n",
    "df = pd.read_csv(file_path)\n",
    "\n",
    "# Convert 'Votes' to numeric in case there are any non-numeric values\n",
    "df['Votes'] = pd.to_numeric(df['Votes'], errors='coerce')\n",
    "\n",
    "# Identify the restaurants with the highest and lowest number of votes\n",
    "max_votes = df.loc[df['Votes'].idxmax()]\n",
    "min_votes = df.loc[df['Votes'].idxmin()]\n",
    "\n",
    "# Calculate correlation between votes and aggregate rating\n",
    "correlation = df[['Votes', 'Aggregate rating']].corr().iloc[0, 1]\n",
    "\n",
    "max_votes, min_votes, correlation\n"
   ]
  },
  {
   "cell_type": "markdown",
   "id": "53959e16",
   "metadata": {},
   "source": [
    "Conclusion\n",
    "The analysis revealed the following insights:\n",
    "\n",
    "The restaurants with the highest and lowest votes were successfully identified, offering a clear contrast in customer interaction levels.\n",
    "\n",
    "A correlation analysis between votes and ratings was performed, showing how strongly (or weakly) these two variables are related.\n",
    "\n",
    "If the correlation was high, it suggests that more popular restaurants (more votes) also tend to receive better ratings.\n",
    "\n",
    "If low or negligible, it implies that popularity and perceived quality are not necessarily aligned.\n",
    "\n",
    "This insight can help restaurant owners and marketers understand the value of customer engagement and feedback mechanisms."
   ]
  },
  {
   "cell_type": "code",
   "execution_count": null,
   "id": "5bade9f5-466d-47a9-81ce-accaa8d57533",
   "metadata": {},
   "outputs": [],
   "source": []
  }
 ],
 "metadata": {
  "kernelspec": {
   "display_name": "Python 3 (ipykernel)",
   "language": "python",
   "name": "python3"
  },
  "language_info": {
   "codemirror_mode": {
    "name": "ipython",
    "version": 3
   },
   "file_extension": ".py",
   "mimetype": "text/x-python",
   "name": "python",
   "nbconvert_exporter": "python",
   "pygments_lexer": "ipython3",
   "version": "3.12.4"
  }
 },
 "nbformat": 4,
 "nbformat_minor": 5
}
